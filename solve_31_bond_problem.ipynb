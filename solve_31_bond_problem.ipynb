{
 "cells": [
  {
   "cell_type": "code",
   "execution_count": 18,
   "id": "b4b1f1f2-4b36-44da-b63a-8f9ff8c66ff7",
   "metadata": {},
   "outputs": [],
   "source": [
    "import numpy as np\n",
    "import sys\n",
    "from pathlib import Path\n",
    "\n",
    "# Add src to path for imports\n",
    "sys.path.append('src')\n",
    "\n",
    "from step_1 import problem_mapping, model_to_obj\n",
    "import docplex.mp.model_reader"
   ]
  },
  {
   "cell_type": "code",
   "execution_count": 19,
   "id": "723d3ba5-aee3-4077-95cd-159ae60374c8",
   "metadata": {},
   "outputs": [],
   "source": [
    "lp_file = 'data/1/31bonds/docplex-bin-avgonly-nocplexvars.lp'\n",
    "if not Path(lp_file).exists():\n",
    "        print(f\"❌ Error: LP file not found: {lp_file}\")\n",
    "        print(\"Please ensure you're running from the project root directory.\")"
   ]
  },
  {
   "cell_type": "code",
   "execution_count": 20,
   "id": "48e61d51-20ba-419b-b7ff-31bf02fca1ed",
   "metadata": {},
   "outputs": [],
   "source": [
    "ansatz = 'TwoLocalxx'\n",
    "ansatz_params = {'reps': 1, 'entanglement': 'bilinear'}\n",
    "theta_initial = 'piby3'\n",
    "device = 'AerSimulator'\n",
    "instance = 'default'"
   ]
  },
  {
   "cell_type": "code",
   "execution_count": 21,
   "id": "4487f826-e020-4243-bcc7-3f248cfb0c1c",
   "metadata": {},
   "outputs": [
    {
     "name": "stdout",
     "output_type": "stream",
     "text": [
      "31 15\n"
     ]
    }
   ],
   "source": [
    "obj_fn, ansatz_, theta_initial_, backend, initial_layout = problem_mapping(\n",
    "            lp_file=lp_file,\n",
    "            ansatz=ansatz,\n",
    "            ansatz_params=ansatz_params,\n",
    "            theta_initial=theta_initial,\n",
    "            device=device,\n",
    "            instance=instance\n",
    "        )"
   ]
  },
  {
   "cell_type": "code",
   "execution_count": 22,
   "id": "8b049089-8fea-4a63-8ef9-7a5195a529eb",
   "metadata": {},
   "outputs": [
    {
     "name": "stdout",
     "output_type": "stream",
     "text": [
      "Classical solution: [0, 1.0, 1.0, 1.0, 0, 0, 1.0, 0, 1.0, 1.0, 1.0, 1.0, 1.0, 0, 1.0, 1.0, 1.0, 0, 1.0, 0, 1.0, 1.0, 1.0, 0, 0, 1.0, 1.0, 1.0, 1.0, 0, 1.0]\n",
      "Classical objective: 40.29392935842725\n"
     ]
    }
   ],
   "source": [
    "from step_1 import get_cplex_sol\n",
    "\n",
    "x_classical, fx_classical = get_cplex_sol(lp_file, obj_fn)\n",
    "print(f\"Classical solution: {x_classical}\")\n",
    "print(f\"Classical objective: {fx_classical}\")"
   ]
  },
  {
   "cell_type": "code",
   "execution_count": 23,
   "id": "3c9e4583-676d-4ad0-8d5a-a7c7af05282a",
   "metadata": {},
   "outputs": [],
   "source": [
    "import docplex.mp\n",
    "import docplex.mp.model\n",
    "import docplex.mp.constants\n",
    "import docplex.mp\n",
    "import docplex.mp.model\n",
    "import docplex.mp.model_reader\n",
    "import docplex.mp.solution\n",
    "\n",
    "model: docplex.mp.model.Model = docplex.mp.model_reader.ModelReader.read(lp_file)\n",
    "sol: docplex.mp.solution.SolveSolution = model.solve()"
   ]
  },
  {
   "cell_type": "code",
   "execution_count": 24,
   "id": "5472547e-be0e-4fe7-8c76-38f2ebacaee0",
   "metadata": {},
   "outputs": [
    {
     "name": "stdout",
     "output_type": "stream",
     "text": [
      "Docplex objective: 40.29392935842725\n",
      "Classical objective: 40.29392935842725\n"
     ]
    }
   ],
   "source": [
    "sol.objective_value\n",
    "print(f\"Docplex objective: {sol.objective_value}\")\n",
    "print(f\"Classical objective: {fx_classical}\")"
   ]
  },
  {
   "cell_type": "code",
   "execution_count": 26,
   "id": "99dbc26a-85d6-4936-aa14-0c6c342cc804",
   "metadata": {},
   "outputs": [
    {
     "name": "stdout",
     "output_type": "stream",
     "text": [
      "Best x (step 3): [0. 1. 1. 1. 0. 0. 1. 0. 1. 1. 1. 1. 1. 0. 1. 1. 1. 0. 1. 0. 1. 1. 1. 0.\n",
      " 0. 1. 1. 1. 1. 0. 1.]\n",
      "Best fx (step 3): 40.29392935842725\n"
     ]
    }
   ],
   "source": [
    "from src.experiment import Experiment\n",
    "\n",
    "# Load all experiments from directory\n",
    "experiments = Experiment.read_experiments('1/31bonds/TwoLocalxx1rep_piby3_AerSimulator_0.1/')\n",
    "df_all = Experiment.df_experiments(experiments)\n",
    "exp_id = 'TwoLocalxx1rep_piby3_AerSimulator_0.1/9'\n",
    "\n",
    "row = df_all[df_all['experiment_id'] == exp_id]\n",
    "\n",
    "best_x = row['step3_result_best_x'].values[0]\n",
    "best_fx = row['step3_result_best_fx'].values[0]\n",
    "\n",
    "print(\"Best x (step 3):\", best_x)\n",
    "print(\"Best fx (step 3):\", best_fx)"
   ]
  }
 ],
 "metadata": {
  "kernelspec": {
   "display_name": "Python [conda env:wiser-optimization]",
   "language": "python",
   "name": "conda-env-wiser-optimization-py"
  },
  "language_info": {
   "codemirror_mode": {
    "name": "ipython",
    "version": 3
   },
   "file_extension": ".py",
   "mimetype": "text/x-python",
   "name": "python",
   "nbconvert_exporter": "python",
   "pygments_lexer": "ipython3",
   "version": "3.10.18"
  }
 },
 "nbformat": 4,
 "nbformat_minor": 5
}
